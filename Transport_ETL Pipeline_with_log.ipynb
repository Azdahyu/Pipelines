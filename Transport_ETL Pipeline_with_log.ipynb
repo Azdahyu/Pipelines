{
 "cells": [
  {
   "cell_type": "code",
   "execution_count": 1,
   "id": "b723c3ca-c596-4cc9-a067-c716b5ad63ae",
   "metadata": {},
   "outputs": [],
   "source": [
    "import pandas as pd\n",
    "import numpy as np\n",
    "import logging"
   ]
  },
  {
   "cell_type": "code",
   "execution_count": 2,
   "id": "ab69f072-e6cb-4471-b2ce-c77909505d28",
   "metadata": {},
   "outputs": [],
   "source": [
    "logging.basicConfig(\n",
    "    level=logging.DEBUG,  # Set the minimum logging level\n",
    "    format=\"%(asctime)s - %(levelname)s - %(message)s\",  # Log format\n",
    "    datefmt=\"%Y-%m-%d %H:%M:%S\"  # Date format\n",
    ")"
   ]
  },
  {
   "cell_type": "code",
   "execution_count": 3,
   "id": "d09033ec-7462-4c84-9787-0c16f00e85b1",
   "metadata": {},
   "outputs": [
    {
     "name": "stderr",
     "output_type": "stream",
     "text": [
      "2025-08-11 22:43:59 - INFO - Starting extraction from C:\\Users\\HP\\Tina/Projects/mode_of_transportation.xlsx\n",
      "2025-08-11 22:46:05 - INFO - Extraction complete!\n",
      "2025-08-11 22:46:05 - INFO - Starting transformation...\n",
      "2025-08-11 22:46:05 - INFO - Transformation complete!\n",
      "2025-08-11 22:46:05 - INFO - Loading to C:\\Users\\HP\\Tina/Projects/updated_mode_of_transportation.csv\n",
      "2025-08-11 22:46:16 - INFO - Loading complete!\n"
     ]
    }
   ],
   "source": [
    "def extract(file):\n",
    "    try:\n",
    "        logging.info(f'Starting extraction from {file}')\n",
    "        df = pd.read_excel(file, engine='openpyxl')\n",
    "        logging.info('Extraction complete!')\n",
    "        return df\n",
    "    except Exception as e:\n",
    "        logging.error(f'Error extracting from {file}: {e}', exc_info=True)\n",
    "        return None\n",
    "\n",
    "def transform(df):\n",
    "    try:\n",
    "        logging.info('Starting transformation...')\n",
    "        df = df.rename(columns = {'reportyear':'report_year',\n",
    "                          'geotype':'geo_type', \n",
    "                          'geotypevalue':'geo_type_value',\n",
    "                          'geoname':'geo_name'})\n",
    "        logging.info('Transformation complete!')\n",
    "        return df\n",
    "    except Exception as e:\n",
    "        logging.error(f'Transformation failed: {e}', exc_info=True)\n",
    "        return None\n",
    "\n",
    "def load(df, file_path):\n",
    "    try:\n",
    "        logging.info(f'Loading to {file_path}')\n",
    "        df.to_csv(file_path)\n",
    "        logging.info('Loading complete!')\n",
    "    except Exception as e:\n",
    "        logging.error(f'Loading to {file_path} failed: {e}', exc_info=True)\n",
    "        return None\n",
    "\n",
    "\n",
    "raw_data = extract(r'C:\\Users\\HP\\Tina/Projects/mode_of_transportation.xlsx')\n",
    "transformed_data = transform(raw_data)\n",
    "load(transformed_data, r'C:\\Users\\HP\\Tina/Projects/updated_mode_of_transportation.csv')"
   ]
  },
  {
   "cell_type": "code",
   "execution_count": null,
   "id": "000b4caa-0da0-4d4a-bef1-35681ede1c06",
   "metadata": {},
   "outputs": [],
   "source": []
  }
 ],
 "metadata": {
  "kernelspec": {
   "display_name": "Python 3 (ipykernel)",
   "language": "python",
   "name": "python3"
  },
  "language_info": {
   "codemirror_mode": {
    "name": "ipython",
    "version": 3
   },
   "file_extension": ".py",
   "mimetype": "text/x-python",
   "name": "python",
   "nbconvert_exporter": "python",
   "pygments_lexer": "ipython3",
   "version": "3.12.5"
  }
 },
 "nbformat": 4,
 "nbformat_minor": 5
}
