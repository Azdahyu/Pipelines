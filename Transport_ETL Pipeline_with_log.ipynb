{
 "cells": [
  {
   "cell_type": "code",
   "execution_count": 1,
   "id": "d09033ec-7462-4c84-9787-0c16f00e85b1",
   "metadata": {},
   "outputs": [
    {
     "name": "stderr",
     "output_type": "stream",
     "text": [
      "2025-08-15 18:41:07 - INFO - Starting extraction from C:\\Users\\HP\\Tina\\Projects\\mode_of_transportation.xlsx\n",
      "2025-08-15 18:43:48 - INFO - Extraction complete!\n",
      "2025-08-15 18:43:48 - INFO - Starting transformation...\n",
      "2025-08-15 18:43:49 - INFO - Transformation complete!\n",
      "2025-08-15 18:43:49 - INFO - Preparing to load to C:\\Users\\HP\\Tina\\Projects\\updated_mode_of_transportation.csv\n",
      "2025-08-15 18:43:49 - WARNING - C:\\Users\\HP\\Tina\\Projects\\updated_mode_of_transportation.csv already exists. Deleting old file...\n",
      "2025-08-15 18:44:08 - INFO - Loading complete!\n"
     ]
    }
   ],
   "source": [
    "import pandas as pd\n",
    "import numpy as np\n",
    "import logging\n",
    "import os\n",
    "\n",
    "logging.basicConfig(\n",
    "    level=logging.DEBUG,  # Set the minimum logging level\n",
    "    format=\"%(asctime)s - %(levelname)s - %(message)s\",  # Log format\n",
    "    datefmt=\"%Y-%m-%d %H:%M:%S\"  # Date format\n",
    ")\n",
    "\n",
    "def extract(file):\n",
    "    try:\n",
    "        logging.info(f'Starting extraction from {file}')\n",
    "        df = pd.read_excel(file, engine='openpyxl')\n",
    "        logging.info('Extraction complete!')\n",
    "        return df\n",
    "    except Exception as e:\n",
    "        logging.error(f'Error extracting from {file}: {e}', exc_info=True)\n",
    "        return None\n",
    "\n",
    "def transform(df):\n",
    "    try:\n",
    "        logging.info('Starting transformation...')\n",
    "        df = df.rename(columns={\n",
    "            'reportyear': 'report_year',\n",
    "            'geotype': 'geo_type',\n",
    "            'geotypevalue': 'geo_type_value',\n",
    "            'geoname': 'geo_name'\n",
    "        })\n",
    "        logging.info('Transformation complete!')\n",
    "        return df\n",
    "    except Exception as e:\n",
    "        logging.error(f'Transformation failed: {e}', exc_info=True)\n",
    "        return None\n",
    "\n",
    "def load(df, file_path):\n",
    "    try:\n",
    "        logging.info(f'Preparing to load to {file_path}')\n",
    "        \n",
    "        # If file exists, delete it first\n",
    "        if os.path.exists(file_path):\n",
    "            logging.warning(f'{file_path} already exists. Deleting old file...')\n",
    "            os.remove(file_path)\n",
    "        \n",
    "        df.to_csv(file_path, index=False)\n",
    "        logging.info('Loading complete!')\n",
    "    except Exception as e:\n",
    "        logging.error(f'Loading to {file_path} failed: {e}', exc_info=True)\n",
    "        return None\n",
    "\n",
    "\n",
    "raw_data = extract(r'C:\\Users\\HP\\Tina\\Projects\\mode_of_transportation.xlsx')\n",
    "transformed_data = transform(raw_data)\n",
    "load(transformed_data, r'C:\\Users\\HP\\Tina\\Projects\\updated_mode_of_transportation.csv')\n"
   ]
  },
  {
   "cell_type": "code",
   "execution_count": null,
   "id": "000b4caa-0da0-4d4a-bef1-35681ede1c06",
   "metadata": {},
   "outputs": [],
   "source": []
  }
 ],
 "metadata": {
  "kernelspec": {
   "display_name": "Python 3 (ipykernel)",
   "language": "python",
   "name": "python3"
  },
  "language_info": {
   "codemirror_mode": {
    "name": "ipython",
    "version": 3
   },
   "file_extension": ".py",
   "mimetype": "text/x-python",
   "name": "python",
   "nbconvert_exporter": "python",
   "pygments_lexer": "ipython3",
   "version": "3.12.5"
  }
 },
 "nbformat": 4,
 "nbformat_minor": 5
}
